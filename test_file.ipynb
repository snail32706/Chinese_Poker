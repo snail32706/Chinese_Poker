{
 "cells": [
  {
   "cell_type": "code",
   "execution_count": 94,
   "id": "98115e58",
   "metadata": {},
   "outputs": [
    {
     "name": "stdout",
     "output_type": "stream",
     "text": [
      "[[1, 4, 2, 3, 3, 3, 4, 0], [1, 4, 2, 3, 3, 1, 4, 0], [1, 2, 2, 5, 3, 2, 4, 1], [1, 3, 2, 2, 3, 7, 4, 0]]\n",
      "player3: 2\n",
      "player4: 3\n"
     ]
    }
   ],
   "source": [
    "import random  \n",
    "import numpy as np\n",
    "import pandas as pd\n",
    "\n",
    "class Chinese_poker:\n",
    "    def __init__(self, total_num_of_cards, num_ofcards_per_person, num_of_players):\n",
    "        \n",
    "        '''\n",
    "        total_num_of_cards     : total number of poker cards.\n",
    "        num_ofcards_per_person : number of cards per person\n",
    "        num_of_players         : number of players.\n",
    "        pot_card               : 彩金\n",
    "        self.hand_cards      : 玩家手上的牌\n",
    "        card_list              : [1 ~ 52] or [1 ~ 52+13].\n",
    "\n",
    "        '''\n",
    "\n",
    "        self.total_num_of_cards     = int(total_num_of_cards)\n",
    "        self.num_ofcards_per_person = int(num_ofcards_per_person)\n",
    "        self.num_of_players         = int(num_of_players)\n",
    "        self.pot_card               = None\n",
    "        self.hand_cards             = None\n",
    "        self.ranks_index            = []\n",
    "        self.suits_index            = []\n",
    "        \n",
    "        if self.total_num_of_cards % 13 == 0:\n",
    "            self.card_list  = [i for i in range(1, 1 + self.total_num_of_cards)]\n",
    "        else:\n",
    "            print('Error! Incorrect number of cards!')\n",
    "    \n",
    "    def shuffle(self, pot=None):\n",
    "\n",
    "        if pot == None:\n",
    "            random.shuffle(self.card_list)                 # 洗牌\n",
    "        elif pot == 'choose':\n",
    "            random.shuffle(self.card_list)                 # 洗牌\n",
    "            self.pot_card = random.choice(self.card_list)  # 選出彩金鋪克牌\n",
    "        elif pot == 'take':\n",
    "            random.shuffle(self.card_list)                 # 洗牌\n",
    "            self.pot_card = random.choice(self.card_list)  # 選出彩金鋪克牌\n",
    "            self.card_list.remove(self.pot_card)           # 且將彩金鋪克牌「抽出」\n",
    "        else:\n",
    "            print('pot only equal string choose or take')\n",
    "\n",
    "    def dealing_cards(self, pot=None):\n",
    "        '''\n",
    "        pot = \"None, choose, take\" only.\n",
    "        '''\n",
    "        num_of_players = self.num_of_players\n",
    "        cards_per      = self.num_ofcards_per_person\n",
    "        a              = []\n",
    "\n",
    "        self.shuffle(pot)\n",
    "\n",
    "        if self.num_of_players * self.num_ofcards_per_person > len(self.card_list):\n",
    "            print('Error! Incorrect number of cards!')\n",
    "        else:\n",
    "            for i in range(self.num_of_players):\n",
    "                a.append(self.card_list[0 + i * cards_per: cards_per * (i+1)])\n",
    "            # print(a)\n",
    "            self.hand_cards= np.array(a)\n",
    "            # print(self.hand_cards)\n",
    "            self.hand_cards.sort()                        # 將牌由小到大排列。\n",
    "\n",
    "\n",
    "    def analysis_cards(self):\n",
    "        '''\n",
    "        find ranks numbers.\n",
    "        鐵支, 三條, 對子.\n",
    "        '''\n",
    "        ranks = self.hand_cards % 13\n",
    "\n",
    "        for i in range(self.num_of_players):\n",
    "            self.ranks_index.append([])\n",
    "            for j in range(0, 13):\n",
    "                self.ranks_index[i].append(j)\n",
    "                self.ranks_index[i].append(list(ranks[i]).count(j))\n",
    "\n",
    "        '''\n",
    "        找出花色\n",
    "        同花順, 同花.\n",
    "        '''\n",
    "        suits = self.hand_cards // 13\n",
    "\n",
    "        for i in range(self.num_of_players):\n",
    "            self.suits_index.append([])\n",
    "            # [1, 2, 3, 4] = ['♠', '♦', '♥', '♣']\n",
    "            for j in range(1, 5):\n",
    "                self.suits_index[i].append(j)\n",
    "                self.suits_index[i].append(list(suits[i]).count(j))\n",
    "\n",
    "    def straight_flush(self):\n",
    "        print(self.suits_index)\n",
    "        for i in range(self.num_of_players):\n",
    "            for j in range(1,8,2):\n",
    "                if self.suits_index[i][j] > 4:\n",
    "                    print(f'player{i+1}: {self.suits_index[i][j-1]}')\n",
    "\n",
    "\n",
    "C = Chinese_poker(52, 13, 4)\n",
    "C.dealing_cards(pot=None)\n",
    "C.analysis_cards()\n",
    "C.straight_flush()\n"
   ]
  },
  {
   "cell_type": "code",
   "execution_count": 87,
   "id": "7212cf61",
   "metadata": {},
   "outputs": [],
   "source": [
    "a = [[43, 41, 22, 39, 13, 50, 18, 34, 45, 35, 46, 2, 31], \n",
    "     [37, 27, 4, 1, 14, 23, 38, 8, 28, 40, 5, 52, 33], \n",
    "     [25, 20, 29, 36, 6, 12, 21, 24, 9, 7, 47, 48, 44], \n",
    "     [49, 3, 11, 10, 19, 15, 26, 51, 17, 30, 42, 32, 16]\n",
    "    ]\n",
    "a = np.array(a)"
   ]
  },
  {
   "cell_type": "code",
   "execution_count": 113,
   "id": "2e6d4e94",
   "metadata": {},
   "outputs": [
    {
     "name": "stdout",
     "output_type": "stream",
     "text": [
      "     Player1  Player2  Player3  Player4\n",
      "K          0        0        0        0\n",
      "num        2        1        0        1\n",
      "A          1        1        1        1\n",
      "num        0        4        0        0\n",
      "2          2        2        2        2\n",
      "num        2        1        0        1\n",
      "3          3        3        3        3\n",
      "num        0        0        1        3\n",
      "4          4        4        4        4\n",
      "num        1        1        0        2\n",
      "5          5        5        5        5\n",
      "num        2        1        1        0\n",
      "6          6        6        6        6\n",
      "num        1        0        1        2\n",
      "7          7        7        7        7\n",
      "num        1        1        2        0\n",
      "8          8        8        8        8\n",
      "num        1        1        2        0\n",
      "9          9        9        9        9\n",
      "num        2        0        2        0\n",
      "10        10       10       10       10\n",
      "num        0        1        1        2\n",
      "J         11       11       11       11\n",
      "num        1        1        1        1\n",
      "Q         12       12       12       12\n",
      "num        0        1        2        1\n",
      "         ♠  num  ♦  num  ♥  num  ♣  num\n",
      "Player1  1    3  2    3  3    6  4    0\n",
      "Player2  1    2  2    5  3    1  4    1\n",
      "Player3  1    4  2    2  3    3  4    0\n",
      "Player4  1    4  2    3  3    3  4    0\n"
     ]
    }
   ],
   "source": [
    "def analysis_cards():\n",
    "    '''\n",
    "    find ranks numbers.\n",
    "    鐵支, 三條, 對子.\n",
    "    '''\n",
    "    ranks = a % 13\n",
    "    ranks_index = []\n",
    "\n",
    "    for i in range(4):\n",
    "        ranks_index.append([])\n",
    "        for j in range(0, 13):\n",
    "            ranks_index[i].append(j)\n",
    "            ranks_index[i].append(list(ranks[i]).count(j))\n",
    "\n",
    "    '''\n",
    "    找出花色\n",
    "    同花順, 同花.\n",
    "    '''\n",
    "    suits = a // 13\n",
    "    suits_index = []\n",
    "\n",
    "    for i in range(4):\n",
    "        suits_index.append([])\n",
    "        # [1, 2, 3, 4] = ['♠', '♦', '♥', '♣']\n",
    "        for j in range(1, 5):\n",
    "            suits_index[i].append(j)\n",
    "            suits_index[i].append(list(suits[i]).count(j))\n",
    "    return ranks_index, suits_index\n",
    "\n",
    "ranks_index, suits_index = analysis_cards()\n",
    "# print(ranks_index, '\\n', '\\n',suits_index)\n",
    "PD_ranks_index = pd.DataFrame(np.array(ranks_index), \n",
    "                    columns = ['K', 'num', 'A', 'num', '2', 'num', '3', 'num', '4', 'num', '5', \n",
    "                               'num', '6', 'num', '7', 'num', '8', 'num', '9', 'num', \n",
    "                               '10', 'num', 'J', 'num', 'Q', 'num'],\n",
    "                    index = ['Player1', 'Player2', 'Player3', 'Player4'])\n",
    "\n",
    "PD_suits_index = pd.DataFrame(np.array(suits_index), \n",
    "                    columns = ['♠', 'num', '♦', 'num', '♥', 'num', '♣', 'num'],\n",
    "                    index = ['Player1', 'Player2', 'Player3', 'Player4'])\n",
    "print(PD_ranks_index.T)\n",
    "\n",
    "print(PD_suits_index)"
   ]
  },
  {
   "cell_type": "code",
   "execution_count": 108,
   "id": "90d37ebd",
   "metadata": {},
   "outputs": [
    {
     "name": "stdout",
     "output_type": "stream",
     "text": [
      "player1: 3\n",
      "player2: 2\n"
     ]
    }
   ],
   "source": [
    "def straight_flush():\n",
    "\n",
    "    for i in range(4):\n",
    "        for j in range(1,8,2):\n",
    "            if suits_index[i][j] > 4:\n",
    "                print(f'player{i+1}: {suits_index[i][j-1]}')\n",
    "straight_flush()"
   ]
  },
  {
   "cell_type": "code",
   "execution_count": 5,
   "id": "dcd11125",
   "metadata": {},
   "outputs": [],
   "source": []
  },
  {
   "cell_type": "code",
   "execution_count": 6,
   "id": "224c051b",
   "metadata": {},
   "outputs": [
    {
     "name": "stdout",
     "output_type": "stream",
     "text": [
      "[4, 7, 5, 8, 9, 6]\n"
     ]
    }
   ],
   "source": []
  },
  {
   "cell_type": "code",
   "execution_count": 7,
   "id": "c044ed51",
   "metadata": {},
   "outputs": [
    {
     "data": {
      "text/plain": [
       "array([[4, 7, 5],\n",
       "       [0, 0, 0]])"
      ]
     },
     "execution_count": 7,
     "metadata": {},
     "output_type": "execute_result"
    }
   ],
   "source": []
  },
  {
   "cell_type": "code",
   "execution_count": 66,
   "id": "4918d799",
   "metadata": {},
   "outputs": [
    {
     "name": "stdout",
     "output_type": "stream",
     "text": [
      "[ 4  2  9  0  0 11  5  8  6  9  7  2  5]\n",
      "[11  1  4  1  1 10 12  8  2  1  5  0  7]\n",
      "[12  7  3 10  6 12  8 11  9  7  8  9  5]\n",
      "[10  3 11 10  6  2  0 12  4  4  3  6  3]\n"
     ]
    }
   ],
   "source": [
    "for i in range(4):\n",
    "    print(c[i])"
   ]
  },
  {
   "cell_type": "code",
   "execution_count": 67,
   "id": "df8167b2",
   "metadata": {},
   "outputs": [
    {
     "data": {
      "text/plain": [
       "[0, 1, 2, 3, 4, 5, 6, 7, 8, 9, 10, 11, 12]"
      ]
     },
     "execution_count": 67,
     "metadata": {},
     "output_type": "execute_result"
    }
   ],
   "source": [
    "list(range(0,13))\n"
   ]
  },
  {
   "cell_type": "code",
   "execution_count": 68,
   "id": "7113b0e0",
   "metadata": {},
   "outputs": [
    {
     "data": {
      "text/plain": [
       "array([[3, 3, 1, 3, 1, 3, 1, 2, 3, 2, 3, 0, 2],\n",
       "       [2, 2, 0, 0, 1, 1, 2, 0, 2, 3, 0, 4, 2],\n",
       "       [1, 1, 2, 2, 0, 0, 1, 1, 0, 0, 3, 3, 3],\n",
       "       [3, 0, 0, 0, 1, 1, 2, 3, 1, 2, 3, 2, 1]])"
      ]
     },
     "execution_count": 68,
     "metadata": {},
     "output_type": "execute_result"
    }
   ],
   "source": [
    "b // 13"
   ]
  },
  {
   "cell_type": "code",
   "execution_count": 69,
   "id": "733c8be1",
   "metadata": {},
   "outputs": [],
   "source": [
    "def analysis_cards_rank():\n",
    "    '''\n",
    "    find ranks numbers.\n",
    "    鐵支, 三條, 對子.\n",
    "    '''\n",
    "    ranks       = b % 13\n",
    "    ranks_index = []\n",
    "\n",
    "    for i in range(4):\n",
    "\n",
    "        ranks_index.append([])\n",
    "        for j in range(0, 13):\n",
    "            ranks_index[i].append(j)\n",
    "            ranks_index[i].append(list(ranks[i]).count(j))\n",
    "    return ranks_index\n",
    "\n",
    "def analysis_cards_suits():\n",
    "    '''\n",
    "    找出花色\n",
    "    同花順, 同花.\n",
    "    '''\n",
    "    suits       = b // 13\n",
    "    suits_index = []\n",
    "\n",
    "    for i in range(4):\n",
    "        suits_index.append([])\n",
    "        # [1, 2, 3, 4] = ['♠', '♦', '♥', '♣']\n",
    "        for j in range(1, 5):\n",
    "            suits_index[i].append(j)\n",
    "            suits_index[i].append(list(suits[i]).count(j))\n",
    "    return suits_index"
   ]
  },
  {
   "cell_type": "code",
   "execution_count": 70,
   "id": "22711142",
   "metadata": {},
   "outputs": [
    {
     "data": {
      "text/plain": [
       "array([[ 0,  2,  1,  0,  2,  2,  3,  0,  4,  1,  5,  2,  6,  1,  7,  1,\n",
       "         8,  1,  9,  2, 10,  0, 11,  1, 12,  0],\n",
       "       [ 0,  1,  1,  4,  2,  1,  3,  0,  4,  1,  5,  1,  6,  0,  7,  1,\n",
       "         8,  1,  9,  0, 10,  1, 11,  1, 12,  1],\n",
       "       [ 0,  0,  1,  0,  2,  0,  3,  1,  4,  0,  5,  1,  6,  1,  7,  2,\n",
       "         8,  2,  9,  2, 10,  1, 11,  1, 12,  2],\n",
       "       [ 0,  1,  1,  0,  2,  1,  3,  3,  4,  2,  5,  0,  6,  2,  7,  0,\n",
       "         8,  0,  9,  0, 10,  2, 11,  1, 12,  1]])"
      ]
     },
     "execution_count": 70,
     "metadata": {},
     "output_type": "execute_result"
    }
   ],
   "source": [
    "np.array(analysis_cards_rank())"
   ]
  },
  {
   "cell_type": "code",
   "execution_count": 71,
   "id": "4b23bbdd",
   "metadata": {},
   "outputs": [
    {
     "data": {
      "text/plain": [
       "array([[1, 3, 2, 3, 3, 6, 4, 0],\n",
       "       [1, 2, 2, 5, 3, 1, 4, 1],\n",
       "       [1, 4, 2, 2, 3, 3, 4, 0],\n",
       "       [1, 4, 2, 3, 3, 3, 4, 0]])"
      ]
     },
     "execution_count": 71,
     "metadata": {},
     "output_type": "execute_result"
    }
   ],
   "source": [
    "np.array(analysis_cards_suits())"
   ]
  },
  {
   "cell_type": "code",
   "execution_count": null,
   "id": "68a9036c",
   "metadata": {},
   "outputs": [],
   "source": []
  },
  {
   "cell_type": "code",
   "execution_count": 39,
   "id": "b799feb5",
   "metadata": {},
   "outputs": [],
   "source": [
    "DD = []\n",
    "DD.append([])\n",
    "DD[0].append(5)\n",
    "\n",
    "DD.append([])\n",
    "DD[1].append(5)"
   ]
  },
  {
   "cell_type": "code",
   "execution_count": 40,
   "id": "5bdb03a2",
   "metadata": {},
   "outputs": [
    {
     "data": {
      "text/plain": [
       "[[5], [5]]"
      ]
     },
     "execution_count": 40,
     "metadata": {},
     "output_type": "execute_result"
    }
   ],
   "source": [
    "DD"
   ]
  },
  {
   "cell_type": "code",
   "execution_count": 43,
   "id": "d955711e",
   "metadata": {},
   "outputs": [
    {
     "name": "stdout",
     "output_type": "stream",
     "text": [
      "1\n",
      "3\n",
      "5\n",
      "7\n"
     ]
    }
   ],
   "source": [
    "for i in range(1,8,2):\n",
    "    print(i)"
   ]
  },
  {
   "cell_type": "code",
   "execution_count": null,
   "id": "e75641de",
   "metadata": {},
   "outputs": [],
   "source": []
  }
 ],
 "metadata": {
  "kernelspec": {
   "display_name": "Python 3 (ipykernel)",
   "language": "python",
   "name": "python3"
  },
  "language_info": {
   "codemirror_mode": {
    "name": "ipython",
    "version": 3
   },
   "file_extension": ".py",
   "mimetype": "text/x-python",
   "name": "python",
   "nbconvert_exporter": "python",
   "pygments_lexer": "ipython3",
   "version": "3.10.8"
  }
 },
 "nbformat": 4,
 "nbformat_minor": 5
}
